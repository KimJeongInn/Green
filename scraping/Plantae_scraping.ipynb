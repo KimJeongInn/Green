{
 "cells": [
  {
   "cell_type": "code",
   "execution_count": 22,
   "metadata": {},
   "outputs": [],
   "source": [
    "from selenium import webdriver\n",
    "from selenium.webdriver.common.keys import Keys\n",
    "import requests\n",
    "from bs4 import BeautifulSoup\n",
    "import time"
   ]
  },
  {
   "cell_type": "code",
   "execution_count": 27,
   "metadata": {},
   "outputs": [
    {
     "name": "stderr",
     "output_type": "stream",
     "text": [
      "C:\\Users\\User\\AppData\\Local\\Temp\\ipykernel_18564\\3086151246.py:1: DeprecationWarning: executable_path has been deprecated, please pass in a Service object\n",
      "  driver = webdriver.Chrome(\"/Users/User/Downloads/chromedriver/chromedriver\")\n",
      "C:\\Users\\User\\AppData\\Local\\Temp\\ipykernel_18564\\3086151246.py:14: DeprecationWarning: find_element_by_css_selector is deprecated. Please use find_element(by=By.CSS_SELECTOR, value=css_selector) instead\n",
      "  driver.find_element_by_css_selector('button#more_btn.moreShrinkBtn.active > img').send_keys(Keys.ENTER)\n"
     ]
    },
    {
     "name": "stdout",
     "output_type": "stream",
     "text": [
      "스크롤 끝!\n",
      "식물 개수:  45\n"
     ]
    },
    {
     "name": "stderr",
     "output_type": "stream",
     "text": [
      "C:\\Users\\User\\AppData\\Local\\Temp\\ipykernel_18564\\3086151246.py:35: DeprecationWarning: find_element_by_css_selector is deprecated. Please use find_element(by=By.CSS_SELECTOR, value=css_selector) instead\n",
      "  plantae = driver.find_element_by_css_selector(\"#plantDetail__page > div > section.plants-simpleinfo-section > div.simpleinfo-table > ul > div:nth-child(2) > li:nth-child(2) > h2\").text\n"
     ]
    },
    {
     "name": "stdout",
     "output_type": "stream",
     "text": [
      "['Selenicereus anthonyanus', 'Sansevieria cylindrica', \"Sansevieria trifasciata 'Moonshine'\", \"Senecio candicans 'Angel wings'\", 'Hoya carnosa', 'Cleistocactus colademononis', 'Yucca recurvifolia', 'Kalanchoe blosfeldian', 'Myrtillocactus geometrizans', 'Rhipsalis trigona', 'Sansevieria trifasciata var. laurentii', 'Euphorbia hypogaea', 'Agave attenuata', 'Plectranthus hadiensis var. tomentosus', 'Xerosicyos danguyi', 'Senecio rowleyanus', 'Opuntia microdasys', 'Conophytum bilobum', 'Tillandsia Cyanea (Wallisia cyanea)', 'Euphorbia lactea ‘White Ghost’ Haw.', 'Beaucarnea recurvata (Nolina tuberculata)', 'Crassula ovata', 'Ceropegia woodii', 'Peperomia pepperspot', 'Haworthia obtusa', 'Haworthia fasciata', 'Peperomia prostrata', 'Euphorbia tirucalli', 'Syzygium australe', 'Aloe barbadens', 'Adenium obesum', \"Aeonium arboreum 'Zwartkop'\", 'Mammillaria gracilis cv. Arizona Snowcap', \"Sansevieria 'Superba'\", 'Opuntia monacantha', 'Euphorbia trigona', 'Aloe arborescens', \"Sansevieria trifasciata 'Hahnii'\", 'Gymnocalycium baldianum', 'Pilosocereus pachycladus', 'Consolea rubescens', 'Cereus hildmannianus', 'Cereus jamacaru', 'Eulychnia castanea var. varispiralis', 'Crassula muscosa']\n"
     ]
    }
   ],
   "source": [
    "driver = webdriver.Chrome(\"/Users/User/Downloads/chromedriver/chromedriver\")\n",
    "\n",
    "#플립 - 선인장&다육으로 이동\n",
    "driver.get(\"https://fuleaf.com/plants?sort=undefined&ff=5fbe30cbcf93fb17bc1da023&term=\")\n",
    "#time.sleep(2)\n",
    "\n",
    "raw = requests.get(\"https://fuleaf.com/plants?sort=undefined&ff=5fbe30cbcf93fb17bc1da023&term=\", \n",
    "                   headers={'User-Agent':'Mozilla/5.0'})\n",
    "html = BeautifulSoup(raw.text, 'html.parser')\n",
    "\n",
    "# 더보기 버튼 끝까지 클릭\n",
    "while True:\n",
    "    try:\n",
    "        driver.find_element_by_css_selector('button#more_btn.moreShrinkBtn.active > img').send_keys(Keys.ENTER)\n",
    "        time.sleep(1)\n",
    "    except:\n",
    "        break\n",
    "\n",
    "print(\"스크롤 끝!\") \n",
    "\n",
    "plantae_list = []\n",
    "\n",
    "#컨테이너 수집\n",
    "plant_container = html.select('#plants_list > ul > div')\n",
    "print(\"식물 개수: \", len(plant_container))\n",
    "\n",
    "for plant in plant_container:\n",
    "    href = plant.select_one(\"div.plants__list-item a\").attrs[\"href\"]\n",
    "    url = 'https://fuleaf.com'+ href\n",
    "\n",
    "    # url(상세페이지)에 접속\n",
    "    driver.get(url)\n",
    "    time.sleep(2)\n",
    "    \n",
    "    plantae = driver.find_element_by_css_selector(\"#plantDetail__page > div > section.plants-simpleinfo-section > div.simpleinfo-table > ul > div:nth-child(2) > li:nth-child(2) > h2\").text\n",
    "    plantae_list.append(plantae) \n",
    "#ok\n",
    "\n",
    "print(plantae_list)\n",
    "\n",
    "driver.close()"
   ]
  },
  {
   "cell_type": "code",
   "execution_count": 29,
   "metadata": {},
   "outputs": [
    {
     "name": "stdout",
     "output_type": "stream",
     "text": [
      "45\n"
     ]
    }
   ],
   "source": [
    "print(len(plantae_list))\n",
    "\n",
    "with open('식물 학명 리스트_다육,선인장.txt','w',encoding='UTF-8') as f:\n",
    "    for plantae in plantae_list:\n",
    "        f.write(plantae+'\\n')"
   ]
  }
 ],
 "metadata": {
  "interpreter": {
   "hash": "aecd030d4c8316a52bf122072e28f84bcc79844c2684e041fef2e3f1d9f59078"
  },
  "kernelspec": {
   "display_name": "Python 3.10.2 64-bit",
   "language": "python",
   "name": "python3"
  },
  "language_info": {
   "codemirror_mode": {
    "name": "ipython",
    "version": 3
   },
   "file_extension": ".py",
   "mimetype": "text/x-python",
   "name": "python",
   "nbconvert_exporter": "python",
   "pygments_lexer": "ipython3",
   "version": "3.10.2"
  },
  "orig_nbformat": 4
 },
 "nbformat": 4,
 "nbformat_minor": 2
}
