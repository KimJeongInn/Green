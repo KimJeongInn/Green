{
 "cells": [
  {
   "cell_type": "code",
   "execution_count": 2,
   "metadata": {},
   "outputs": [],
   "source": [
    "from selenium import webdriver\n",
    "from selenium.webdriver.common.keys import Keys\n",
    "import time"
   ]
  },
  {
   "cell_type": "code",
   "execution_count": 3,
   "metadata": {},
   "outputs": [
    {
     "name": "stderr",
     "output_type": "stream",
     "text": [
      "C:\\Users\\User\\AppData\\Local\\Temp\\ipykernel_97492\\2575554706.py:1: DeprecationWarning: executable_path has been deprecated, please pass in a Service object\n",
      "  driver = webdriver.Chrome(\"/Users/User/Downloads/chromedriver/chromedriver\")\n",
      "C:\\Users\\User\\AppData\\Local\\Temp\\ipykernel_97492\\2575554706.py:20: DeprecationWarning: find_element_by_css_selector is deprecated. Please use find_element(by=By.CSS_SELECTOR, value=css_selector) instead\n",
      "  plant_container = driver.find_element_by_css_selector('#plants_list > ul')\n"
     ]
    },
    {
     "ename": "TypeError",
     "evalue": "object of type 'WebElement' has no len()",
     "output_type": "error",
     "traceback": [
      "\u001b[1;31m---------------------------------------------------------------------------\u001b[0m",
      "\u001b[1;31mTypeError\u001b[0m                                 Traceback (most recent call last)",
      "\u001b[1;32mc:\\Users\\User\\Desktop\\Green\\scraping\\Plantae_scraping.ipynb Cell 2'\u001b[0m in \u001b[0;36m<module>\u001b[1;34m\u001b[0m\n\u001b[0;32m     <a href='vscode-notebook-cell:/c%3A/Users/User/Desktop/Green/scraping/Plantae_scraping.ipynb#ch0000001?line=20'>21</a>\u001b[0m \u001b[39m#print(\"식물 개수: \", len(plant_container))\u001b[39;00m\n\u001b[0;32m     <a href='vscode-notebook-cell:/c%3A/Users/User/Desktop/Green/scraping/Plantae_scraping.ipynb#ch0000001?line=22'>23</a>\u001b[0m plantae_list \u001b[39m=\u001b[39m []\n\u001b[1;32m---> <a href='vscode-notebook-cell:/c%3A/Users/User/Desktop/Green/scraping/Plantae_scraping.ipynb#ch0000001?line=24'>25</a>\u001b[0m \u001b[39mfor\u001b[39;00m i \u001b[39min\u001b[39;00m \u001b[39mrange\u001b[39m(\u001b[39mlen\u001b[39;49m(plant_container)):\n\u001b[0;32m     <a href='vscode-notebook-cell:/c%3A/Users/User/Desktop/Green/scraping/Plantae_scraping.ipynb#ch0000001?line=25'>26</a>\u001b[0m     driver\u001b[39m.\u001b[39mfind_element_by_css_selector(\u001b[39m'\u001b[39m\u001b[39mdiv:nth-child(i) > a > div.plant__image\u001b[39m\u001b[39m'\u001b[39m)\u001b[39m.\u001b[39mclick()\n\u001b[0;32m     <a href='vscode-notebook-cell:/c%3A/Users/User/Desktop/Green/scraping/Plantae_scraping.ipynb#ch0000001?line=26'>27</a>\u001b[0m     plantae_list \u001b[39m+\u001b[39m\u001b[39m=\u001b[39m driver\u001b[39m.\u001b[39mfind_element_by_css_selector(\u001b[39m\"\u001b[39m\u001b[39m#plantDetail__page > div > section.plants-simpleinfo-section > div.simpleinfo-table > ul > div:nth-child(2) > li:nth-child(2) > h2\u001b[39m\u001b[39m\"\u001b[39m)\n",
      "\u001b[1;31mTypeError\u001b[0m: object of type 'WebElement' has no len()"
     ]
    }
   ],
   "source": [
    "\n",
    "\n",
    "driver = webdriver.Chrome(\"/Users/User/Downloads/chromedriver/chromedriver\")\n",
    "driver.implicitly_wait(5)\n",
    "\n",
    "#플립 - 선인장&다육으로 이동\n",
    "driver.get(\"https://fuleaf.com/plants?sort=undefined&ff=5fbe30cbcf93fb17bc1da023&term=\")\n",
    "time.sleep(2)\n",
    "\n",
    "\"\"\"# 더보기 버튼 끝까지 클릭\n",
    "while True:\n",
    "    try:\n",
    "        driver.find_element_by_css_selector('button#more_btn.moreShrinkBtn.active > img').send_keys(Keys.ENTER)\n",
    "        time.sleep(1)\n",
    "    except:\n",
    "        break\n",
    "\n",
    "print(\"스크롤 끝!\") \"\"\"   \n",
    "\n",
    "\n",
    "\n",
    "plant_container = driver.find_element_by_css_selector('#plants_list > ul')\n",
    "#print(\"식물 개수: \", len(plant_container))\n",
    "\n",
    "plantae_list = []\n",
    "\n",
    "for i in range(len(plant_container)):\n",
    "    driver.find_element_by_css_selector('div:nth-child(i) > a > div.plant__image').click()\n",
    "    plantae_list += driver.find_element_by_css_selector(\"#plantDetail__page > div > section.plants-simpleinfo-section > div.simpleinfo-table > ul > div:nth-child(2) > li:nth-child(2) > h2\")\n",
    "\n",
    "driver.close()"
   ]
  }
 ],
 "metadata": {
  "interpreter": {
   "hash": "aecd030d4c8316a52bf122072e28f84bcc79844c2684e041fef2e3f1d9f59078"
  },
  "kernelspec": {
   "display_name": "Python 3.10.2 64-bit",
   "language": "python",
   "name": "python3"
  },
  "language_info": {
   "codemirror_mode": {
    "name": "ipython",
    "version": 3
   },
   "file_extension": ".py",
   "mimetype": "text/x-python",
   "name": "python",
   "nbconvert_exporter": "python",
   "pygments_lexer": "ipython3",
   "version": "3.10.2"
  },
  "orig_nbformat": 4
 },
 "nbformat": 4,
 "nbformat_minor": 2
}
