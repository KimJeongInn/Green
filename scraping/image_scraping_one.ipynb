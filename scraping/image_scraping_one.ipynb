{
 "cells": [
  {
   "cell_type": "code",
   "execution_count": 4,
   "id": "7c4722d1",
   "metadata": {},
   "outputs": [],
   "source": [
    "import errno\n",
    "from selenium import webdriver\n",
    "from selenium.webdriver.common.keys import Keys\n",
    "import urllib.request\n",
    "import time\n",
    "import os\n",
    "import pandas as pd"
   ]
  },
  {
   "cell_type": "markdown",
   "id": "30d0318c",
   "metadata": {},
   "source": [
    "필요한 폴더 생성"
   ]
  },
  {
   "cell_type": "code",
   "execution_count": 2,
   "id": "e262c500",
   "metadata": {},
   "outputs": [],
   "source": [
    "#search_plant = input(\"검색어를 입력 : \")\n",
    "search_plant = \"청하각\"\n",
    "#num = int(input(\"다운로드 받고 싶은 이미지의 수 입력 : \"))\n",
    "num = 10\n",
    "\n",
    "# image 폴더가 있는지 검사 후 없으면 생성\n",
    "if not os.path.exists(\"./img\"):\n",
    "        os.mkdir(\"./img\")\n",
    "\n",
    "#식물에 해당하는 폴더 생성\n",
    "try:\n",
    "    if not (os.path.isdir(\"./img/\" + str(search_plant))):\n",
    "        os.mkdir((os.path.join(\"./img/\" + str(search_plant))))\n",
    "except OSError:\n",
    "    if errno != errno.EEXIST:\n",
    "        print(\"폴더 생성 실패!\")\n",
    "        exit()\n",
    "    "
   ]
  },
  {
   "cell_type": "code",
   "execution_count": 5,
   "id": "5d055f0f",
   "metadata": {},
   "outputs": [
    {
     "name": "stderr",
     "output_type": "stream",
     "text": [
      "C:\\Users\\User\\AppData\\Local\\Temp\\ipykernel_27940\\2112916242.py:1: DeprecationWarning: executable_path has been deprecated, please pass in a Service object\n",
      "  driver = webdriver.Chrome(\"/Users/User/Downloads/chromedriver/chromedriver\")\n",
      "C:\\Users\\User\\AppData\\Local\\Temp\\ipykernel_27940\\2112916242.py:6: DeprecationWarning: find_element_by_name is deprecated. Please use find_element(by=By.NAME, value=name) instead\n",
      "  elem = driver.find_element_by_name(\"q\")\n",
      "C:\\Users\\User\\AppData\\Local\\Temp\\ipykernel_27940\\2112916242.py:15: DeprecationWarning: find_elements_by_css_selector is deprecated. Please use find_elements(by=By.CSS_SELECTOR, value=css_selector) instead\n",
      "  imgs = driver.find_elements_by_css_selector(\".rg_i.Q4LuWd\")\n",
      "C:\\Users\\User\\AppData\\Local\\Temp\\ipykernel_27940\\2112916242.py:21: DeprecationWarning: find_element_by_css_selector is deprecated. Please use find_element(by=By.CSS_SELECTOR, value=css_selector) instead\n",
      "  imgURL=driver.find_element_by_css_selector(\".n3VNCb\").get_attribute(\"src\")\n"
     ]
    }
   ],
   "source": [
    "driver = webdriver.Chrome(\"/Users/User/Downloads/chromedriver/chromedriver\")\n",
    "\n",
    "# 구글 이미지 검색 url\n",
    "driver.get(\"https://www.google.co.kr/imghp?hl=ko\")\n",
    "\n",
    "elem = driver.find_element_by_name(\"q\") \n",
    "\n",
    "#검색창에 검색할 식물 이름을 넣고 엔터\n",
    "elem.send_keys(search_plant)\n",
    "elem.send_keys(Keys.RETURN)\n",
    "\n",
    "#OK\n",
    "\n",
    "count = 1\n",
    "imgs = driver.find_elements_by_css_selector(\".rg_i.Q4LuWd\")\n",
    "\n",
    "for img in imgs:\n",
    "    try:\n",
    "        img.click()\n",
    "        time.sleep(2)\n",
    "        imgURL=driver.find_element_by_css_selector(\".n3VNCb\").get_attribute(\"src\")\n",
    "        urllib.request.urlretrieve(imgURL , \"./img/\" + str(search_plant) + \"/\" + str(count) + \".jpg\")\n",
    "        \n",
    "        count = count + 1\n",
    "        \n",
    "    except:\n",
    "        pass\n",
    "    \n",
    "    if count == num + 1:\n",
    "        break\n",
    "\n",
    "#OK\n",
    "        \n",
    "driver.close()"
   ]
  },
  {
   "cell_type": "code",
   "execution_count": null,
   "id": "9783d016",
   "metadata": {},
   "outputs": [],
   "source": []
  }
 ],
 "metadata": {
  "kernelspec": {
   "display_name": "Python 3 (ipykernel)",
   "language": "python",
   "name": "python3"
  },
  "language_info": {
   "codemirror_mode": {
    "name": "ipython",
    "version": 3
   },
   "file_extension": ".py",
   "mimetype": "text/x-python",
   "name": "python",
   "nbconvert_exporter": "python",
   "pygments_lexer": "ipython3",
   "version": "3.10.2"
  }
 },
 "nbformat": 4,
 "nbformat_minor": 5
}
