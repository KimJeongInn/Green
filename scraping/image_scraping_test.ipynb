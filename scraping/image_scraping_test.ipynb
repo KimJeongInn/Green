{
 "cells": [
  {
   "cell_type": "code",
   "execution_count": 14,
   "id": "7c4722d1",
   "metadata": {},
   "outputs": [],
   "source": [
    "import errno\n",
    "from selenium import webdriver\n",
    "from selenium.webdriver.common.keys import Keys\n",
    "import urllib.request\n",
    "import time\n",
    "import os\n",
    "import pandas as pd"
   ]
  },
  {
   "cell_type": "markdown",
   "id": "30d0318c",
   "metadata": {},
   "source": [
    "필요한 폴더 생성"
   ]
  },
  {
   "cell_type": "code",
   "execution_count": 18,
   "id": "e262c500",
   "metadata": {},
   "outputs": [],
   "source": [
    "#search_plant = input(\"검색어를 입력 : \")\n",
    "plant = \"스투키\"\n",
    "#num = int(input(\"다운로드 받고 싶은 이미지의 수 입력 : \"))\n",
    "num = 250\n",
    "\n",
    "# image 폴더가 있는지 검사 후 없으면 생성\n",
    "if not os.path.exists(\"./img\"):\n",
    "        os.mkdir(\"./img\")\n",
    "\n",
    "#식물에 해당하는 폴더 생성\n",
    "try:\n",
    "    if not (os.path.isdir(\"./img/\" + str(plant))):\n",
    "        os.mkdir((os.path.join(\"./img/\" + str(plant))))\n",
    "except OSError:\n",
    "    if errno != errno.EEXIST:\n",
    "        print(\"폴더 생성 실패!\")\n",
    "        exit()\n",
    "    "
   ]
  },
  {
   "cell_type": "code",
   "execution_count": 20,
   "id": "5d055f0f",
   "metadata": {},
   "outputs": [
    {
     "name": "stderr",
     "output_type": "stream",
     "text": [
      "C:\\Users\\PC\\AppData\\Local\\Temp\\ipykernel_12300\\2595077756.py:1: DeprecationWarning: executable_path has been deprecated, please pass in a Service object\n",
      "  driver = webdriver.Chrome(\"/Users/PC/Downloads/chromedriver/chromedriver\")\n",
      "C:\\Users\\PC\\AppData\\Local\\Temp\\ipykernel_12300\\2595077756.py:7: DeprecationWarning: find_element_by_name is deprecated. Please use find_element(by=By.NAME, value=name) instead\n",
      "  elem = driver.find_element_by_name(\"q\")\n",
      "C:\\Users\\PC\\AppData\\Local\\Temp\\ipykernel_12300\\2595077756.py:22: DeprecationWarning: find_elements_by_css_selector is deprecated. Please use find_elements(by=By.CSS_SELECTOR, value=css_selector) instead\n",
      "  imgs = driver.find_elements_by_css_selector(\".rg_i.Q4LuWd\")\n",
      "C:\\Users\\PC\\AppData\\Local\\Temp\\ipykernel_12300\\2595077756.py:48: DeprecationWarning: find_elements_by_css_selector is deprecated. Please use find_elements(by=By.CSS_SELECTOR, value=css_selector) instead\n",
      "  target = driver.find_elements_by_css_selector(\"img.n3VNCb\")[0]\n",
      "C:\\Users\\PC\\AppData\\Local\\Temp\\ipykernel_12300\\2595077756.py:50: DeprecationWarning: find_elements_by_css_selector is deprecated. Please use find_elements(by=By.CSS_SELECTOR, value=css_selector) instead\n",
      "  target = driver.find_elements_by_css_selector(\"img.n3VNCb\")[1]\n"
     ]
    },
    {
     "name": "stdout",
     "output_type": "stream",
     "text": [
      "스투키의 총 이미지 수 :  251\n"
     ]
    }
   ],
   "source": [
    "driver = webdriver.Chrome(\"/Users/PC/Downloads/chromedriver/chromedriver\")\n",
    "\n",
    "# 구글 이미지 검색 url\n",
    "driver.get(\"https://www.google.co.kr/imghp?hl=ko\")\n",
    "driver.implicitly_wait(2)\n",
    "    \n",
    "elem = driver.find_element_by_name(\"q\") \n",
    "\n",
    "#검색창에 검색할 식물 이름을 넣고 엔터\n",
    "elem.send_keys(plant)\n",
    "elem.send_keys(Keys.RETURN)\n",
    "time.sleep(1)\n",
    "\n",
    "#스크롤 내리기 (더보기 버튼 누르기)\n",
    "last_height = driver.execute_script(\"return document.body.scrollHeight\")\n",
    "\n",
    "while True:\n",
    "    driver.execute_script(\"window.scrollTo(0, document.body.scrollHeight);\")\n",
    "    time.sleep(2)\n",
    "\n",
    "    #현재 다운로드 할 수 있는 이미지 개수\n",
    "    imgs = driver.find_elements_by_css_selector(\".rg_i.Q4LuWd\")\n",
    "    print(\"로드된 이미지 개수 : \", len(imgs)) #-> 한번 더보기 클릭 시 100개 씩 로딩  \n",
    "\n",
    "    if len(imgs) >= num:\n",
    "        break\n",
    "\n",
    "    new_height = driver.execute_script(\"return document.body.scrollHeight\")\n",
    "    \n",
    "    if new_height == last_height:\n",
    "        try:\n",
    "            driver.find_element_by_css_selector(\".mye4qd\").click()\n",
    "        except:\n",
    "            break\n",
    "\n",
    "    last_height = new_height\n",
    "    \n",
    "#이미지 수집 시작\n",
    "count = 1\n",
    "\n",
    "for img in imgs:\n",
    "    try:\n",
    "        driver.execute_script(\"arguments[0].click();\", img)\n",
    "        time.sleep(2)\n",
    "        \n",
    "        # 큰 이미지 주소 추출\n",
    "        if count == 1:\n",
    "            target = driver.find_elements_by_css_selector(\"img.n3VNCb\")[0]\n",
    "        else:\n",
    "            target = driver.find_elements_by_css_selector(\"img.n3VNCb\")[1]\n",
    "\n",
    "        img_src = target.get_attribute('src') \n",
    "        \n",
    "        #HTTP Error 403: Forbidden 에러 방지\n",
    "        opener = urllib.request.build_opener()\n",
    "        opener.addheaders = [('User-Agent', 'Mozila/5.0')]\n",
    "        urllib.request.install_opener(opener)   \n",
    "        \n",
    "        if not os.path.exists(\"./img/\" + str(plant) + \"/\" + str(count) + \".jpg\"):\n",
    "            urllib.request.urlretrieve(img_src , \"./img/\" + str(plant) + \"/\" + str(count) + \".jpg\")\n",
    "        \n",
    "        count += 1\n",
    "        \n",
    "    except Exception as e:\n",
    "        print(\"Error!\" + str(count))\n",
    "        print(e)\n",
    "        pass\n",
    "    \n",
    "    if count == num + 1:\n",
    "        print(str(plant) + \"의 총 이미지 수 : \", count)\n",
    "        break\n",
    "\n",
    "#OK\n",
    "        \n",
    "driver.close()"
   ]
  },
  {
   "cell_type": "code",
   "execution_count": null,
   "id": "9783d016",
   "metadata": {},
   "outputs": [],
   "source": []
  }
 ],
 "metadata": {
  "interpreter": {
   "hash": "e593ac106456af50ce7af38f9671c411b49d6cd90f9b885e167f0f594e09038c"
  },
  "kernelspec": {
   "display_name": "Python 3.10.4 64-bit",
   "language": "python",
   "name": "python3"
  },
  "language_info": {
   "codemirror_mode": {
    "name": "ipython",
    "version": 3
   },
   "file_extension": ".py",
   "mimetype": "text/x-python",
   "name": "python",
   "nbconvert_exporter": "python",
   "pygments_lexer": "ipython3",
   "version": "3.10.4"
  }
 },
 "nbformat": 4,
 "nbformat_minor": 5
}
