{
 "cells": [
  {
   "cell_type": "code",
   "execution_count": 2,
   "id": "7c4722d1",
   "metadata": {},
   "outputs": [],
   "source": [
    "import errno\n",
    "from selenium import webdriver\n",
    "from selenium.webdriver.common.keys import Keys\n",
    "import urllib.request\n",
    "import time \n",
    "import os\n",
    "import pandas as pd"
   ]
  },
  {
   "cell_type": "markdown",
   "id": "a74439e4",
   "metadata": {},
   "source": [
    "스크래핑 할 식물 이름들 불러오기"
   ]
  },
  {
   "cell_type": "code",
   "execution_count": 3,
   "id": "3db57990",
   "metadata": {},
   "outputs": [
    {
     "name": "stdout",
     "output_type": "stream",
     "text": [
      "['생선뼈 선인장', '스투키', '산세베리아 문샤인', '세네시오 칸디칸스', '호야 카르노사', '원숭이꼬리 선인장', '유카', '칼랑코에', '용신목', '립살리스 트리고나', '산세베리아', '괴마옥', '아가베 아테누아타', '장미허브', '녹태고', '녹영', '백도선', '축전', '틸란드시아 시아네아', '화이트 고스트', '덕구리난', '염자', '러브체인', '페페로미아 페퍼스팟', '하월시아 옵투사', '십이지권', '페페로미아 프로스트라타', '청산호', '시기지움', '알로에 베라', '아데니움', '흑법사', '눈꽃 선인장', '슈퍼바 산세베리아', '마블 선인장', '청하각', '미니 알로에', '산세베리아 하니', '비화옥', '금청각', '만세 선인장', '백운각', '귀면각', '율리치아나 스프랄리스', '녹탑']\n"
     ]
    }
   ],
   "source": [
    "f = open(\"식물리스트_선인장,다육.txt\", \"r\", encoding=\"utf-8\")\n",
    "plant_list = f.read().splitlines()\n",
    "print(plant_list)\n",
    "f.close()"
   ]
  },
  {
   "cell_type": "code",
   "execution_count": 4,
   "id": "e262c500",
   "metadata": {},
   "outputs": [
    {
     "name": "stderr",
     "output_type": "stream",
     "text": [
      "C:\\Users\\User\\AppData\\Local\\Temp\\ipykernel_65736\\1086824189.py:8: DeprecationWarning: executable_path has been deprecated, please pass in a Service object\n",
      "  driver = webdriver.Chrome(\"/Users/User/Downloads/chromedriver/chromedriver\")\n",
      "C:\\Users\\User\\AppData\\Local\\Temp\\ipykernel_65736\\1086824189.py:18: DeprecationWarning: find_element_by_name is deprecated. Please use find_element(by=By.NAME, value=name) instead\n",
      "  elem = driver.find_element_by_name(\"q\")\n",
      "C:\\Users\\User\\AppData\\Local\\Temp\\ipykernel_65736\\1086824189.py:25: DeprecationWarning: find_elements_by_css_selector is deprecated. Please use find_elements(by=By.CSS_SELECTOR, value=css_selector) instead\n",
      "  imgs = driver.find_elements_by_css_selector(\".rg_i.Q4LuWd\")\n",
      "C:\\Users\\User\\AppData\\Local\\Temp\\ipykernel_65736\\1086824189.py:31: DeprecationWarning: find_element_by_css_selector is deprecated. Please use find_element(by=By.CSS_SELECTOR, value=css_selector) instead\n",
      "  imgURL=driver.find_element_by_css_selector(\".n3VNCb\").get_attribute(\"src\")\n"
     ]
    }
   ],
   "source": [
    "# image 폴더가 있는지 검사 후 없으면 생성\n",
    "if not os.path.exists(\"./img\"):\n",
    "        os.mkdir(\"./img\")\n",
    "\n",
    "#스크래핑 할 이미지 수\n",
    "num = 10\n",
    "\n",
    "driver = webdriver.Chrome(\"/Users/User/Downloads/chromedriver/chromedriver\")\n",
    "time.sleep(1)\n",
    "\n",
    "for search_plant in plant_list:\n",
    "    #식물에 해당하는 폴더 생성\n",
    "    if not (os.path.isdir(\"./img/\" + str(search_plant))):\n",
    "        os.mkdir((os.path.join(\"./img/\" + str(search_plant))))\n",
    "\n",
    "    # 구글 이미지 검색 url\n",
    "    driver.get(\"https://www.google.co.kr/imghp?hl=ko\")\n",
    "\n",
    "    elem = driver.find_element_by_name(\"q\") \n",
    "\n",
    "    #검색창에 검색할 식물 이름을 넣고 엔터\n",
    "    elem.send_keys(str(search_plant))\n",
    "    elem.send_keys(Keys.RETURN)\n",
    "    time.sleep(2)\n",
    "\n",
    "    count = 1\n",
    "    imgs = driver.find_elements_by_css_selector(\".rg_i.Q4LuWd\")\n",
    "\n",
    "    for img in imgs:\n",
    "        try:\n",
    "            img.click()\n",
    "            time.sleep(1)\n",
    "            imgURL=driver.find_element_by_css_selector(\".n3VNCb\").get_attribute(\"src\")\n",
    "            urllib.request.urlretrieve(imgURL , \"./img/\" + str(search_plant) + \"/\" + str(count) + \".jpg\")\n",
    "            \n",
    "            count = count + 1\n",
    "            \n",
    "        except:\n",
    "            pass\n",
    "        \n",
    "        if count == num + 1:\n",
    "            break\n",
    "            \n",
    "driver.close()"
   ]
  },
  {
   "cell_type": "code",
   "execution_count": null,
   "id": "9783d016",
   "metadata": {},
   "outputs": [],
   "source": []
  }
 ],
 "metadata": {
  "kernelspec": {
   "display_name": "Python 3 (ipykernel)",
   "language": "python",
   "name": "python3"
  },
  "language_info": {
   "codemirror_mode": {
    "name": "ipython",
    "version": 3
   },
   "file_extension": ".py",
   "mimetype": "text/x-python",
   "name": "python",
   "nbconvert_exporter": "python",
   "pygments_lexer": "ipython3",
   "version": "3.10.2"
  }
 },
 "nbformat": 4,
 "nbformat_minor": 5
}
